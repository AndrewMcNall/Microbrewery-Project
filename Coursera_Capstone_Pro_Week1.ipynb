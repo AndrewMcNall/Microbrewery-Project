{
 "cells": [
  {
   "cell_type": "markdown",
   "metadata": {},
   "source": [
    "# Capstone Project\n",
    "\n",
    "# Portland, Oregon Microbrewery Market (week 1)\n",
    "\n",
    "### Applied Data Science Capstone for IBM/Coursera"
   ]
  },
  {
   "cell_type": "markdown",
   "metadata": {},
   "source": [
    "\n",
    "## Table of contents\n",
    "* [Introduction: Business Problem](#introduction)\n",
    "* [Data](#data)\n",
    "* [Methodology](#methodology)\n",
    "* [Analysis](#analysis)\n",
    "* [Results and Discussion](#results)\n",
    "* [Conclusion](#conclusion)\n"
   ]
  },
  {
   "cell_type": "markdown",
   "metadata": {},
   "source": [
    "## Introduction: Business Problem <a name=\"introduction\"></a>"
   ]
  },
  {
   "cell_type": "markdown",
   "metadata": {},
   "source": [
    "Portland is the largest city in Oregon. Portland is located in the Northwest section of the state at the junction of the Willamette and Columbia rivers. Portland is a growing, attractive metropolis with a diverse economy. The region continues to attract entreprenuers, innovators and IT professionals.\n",
    "\n",
    "Microbrewers have found the culture of Portland extremely friendly to their craft brews. In fact, the Oregon Craft Beer Association claims that **Portland**, with 117 breweries in the greater metro area as of 2018, **has more breweries than any other city in the world** https://oregoncraftbeer.org/facts/.\n",
    "\n",
    "The focus of this project is to discover whether or not any locations exist in Portland that are not oversaturated with microbreweries. This report will target specifically stakeholders interested in opening a **microbrewery** in **Portland**, Oregon.\n",
    "\n",
    "Since Portland has more microbreweries than any other city in the world, we will look for **locations with no microbrewery in the vicinity**. We will interpret this to mean no other microbrewery within 500 meters, or approximately 5 min walk. We'll be **looking as close as possible to the center of Portland**. Additionally, we'll **exclude the suburbs** from our search because they are largely residential areas with fewer vistors and fewer businesses and industries. And, we'll exclude other types of restaurants from our search as patrons of microbreweries tend to choose among the microbreweries available rathern than between a microbrewery and another type of restaurant.\n",
    "\n",
    "We will use our data science powers to generate a few most promissing neighborhoods based on this criteria. Advantages of each area will then be clearly expressed so that best possible final location can be chosen by stakeholders."
   ]
  },
  {
   "cell_type": "markdown",
   "metadata": {},
   "source": [
    "##  Data <a name=\"data\"></a>"
   ]
  },
  {
   "cell_type": "markdown",
   "metadata": {},
   "source": [
    "Given how we've framed the problem the following factors will influence our decision:\n",
    "\n",
    "  * The number of microbreweries centered around downtown Portland.\n",
    "  * The distance between each microbrewery and its next closest neighbor.\n",
    "\n",
    "The required information will be extracted from the following data sources:\n",
    "\n",
    "  * Coordinates of downtown Portland and distances between microbreweries will be obtained using **GeoPy Geocoder**.\n",
    "  * The names, addresses and coordinates of microbreweries will be obtained through **Foursquare API**.\n"
   ]
  }
 ],
 "metadata": {
  "kernelspec": {
   "display_name": "Python 3",
   "language": "python",
   "name": "python3"
  },
  "language_info": {
   "codemirror_mode": {
    "name": "ipython",
    "version": 3
   },
   "file_extension": ".py",
   "mimetype": "text/x-python",
   "name": "python",
   "nbconvert_exporter": "python",
   "pygments_lexer": "ipython3",
   "version": "3.7.4"
  }
 },
 "nbformat": 4,
 "nbformat_minor": 2
}
